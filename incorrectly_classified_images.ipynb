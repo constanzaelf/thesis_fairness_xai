{
 "cells": [
  {
   "cell_type": "code",
   "execution_count": 1,
   "id": "388e1cfe",
   "metadata": {},
   "outputs": [],
   "source": [
    "import csv\n",
    "\n",
    "correctly_unattractive_images = set()\n",
    "correctly_attractive_images = set()\n",
    "\n",
    "with open('correctly_UNattractive.csv', 'r') as file:\n",
    "    reader = csv.reader(file)\n",
    "    next(reader) \n",
    "    for row in reader:\n",
    "        correctly_unattractive_images.add(row[0])\n",
    "\n",
    "with open('correctly_attractive.csv', 'r') as file:\n",
    "    reader = csv.reader(file)\n",
    "    next(reader)  \n",
    "    for row in reader:\n",
    "        correctly_attractive_images.add(row[0])\n",
    "\n",
    "all_images = set()\n",
    "\n",
    "with open('celeba-attractiveness-test.csv', 'r') as file:\n",
    "    reader = csv.reader(file)\n",
    "    next(reader)  \n",
    "    for row in reader:\n",
    "        all_images.add(row[0])\n",
    "\n",
    "incorrectly_classified_images = all_images - (correctly_unattractive_images | correctly_attractive_images)\n",
    "\n",
    "with open('incorrectly_classified.csv', 'w', newline='') as file:\n",
    "    writer = csv.writer(file)\n",
    "    for image in incorrectly_classified_images:\n",
    "        writer.writerow([image])\n"
   ]
  },
  {
   "cell_type": "code",
   "execution_count": null,
   "id": "e5203ba8",
   "metadata": {},
   "outputs": [],
   "source": []
  }
 ],
 "metadata": {
  "kernelspec": {
   "display_name": "Python 3",
   "language": "python",
   "name": "python3"
  },
  "language_info": {
   "codemirror_mode": {
    "name": "ipython",
    "version": 3
   },
   "file_extension": ".py",
   "mimetype": "text/x-python",
   "name": "python",
   "nbconvert_exporter": "python",
   "pygments_lexer": "ipython3",
   "version": "3.8.8"
  }
 },
 "nbformat": 4,
 "nbformat_minor": 5
}
